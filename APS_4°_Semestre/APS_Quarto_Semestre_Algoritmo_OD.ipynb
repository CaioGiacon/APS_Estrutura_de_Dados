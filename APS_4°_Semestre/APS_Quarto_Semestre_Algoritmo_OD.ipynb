{
  "nbformat": 4,
  "nbformat_minor": 0,
  "metadata": {
    "colab": {
      "provenance": []
    },
    "kernelspec": {
      "name": "python3",
      "display_name": "Python 3"
    },
    "language_info": {
      "name": "python"
    }
  },
  "cells": [
    {
      "cell_type": "markdown",
      "source": [
        "**APS 4° SEMESTRE ALGORITMOS DE ORDENAÇÃO DE DADOS**"
      ],
      "metadata": {
        "id": "xIk-yt96vT9h"
      }
    },
    {
      "cell_type": "code",
      "source": [
        "import time"
      ],
      "metadata": {
        "id": "Tpm0-8zoy6VT"
      },
      "execution_count": 1,
      "outputs": []
    },
    {
      "cell_type": "code",
      "source": [
        "# função responsável por converter cada registro do arquivo em int.\n",
        "def read_file_dat(file_path):\n",
        "    with open(file_path, 'r') as f:\n",
        "        data = [int(linha.strip()) for linha in f]\n",
        "    return data"
      ],
      "metadata": {
        "id": "yi_ie3__y9Jm"
      },
      "execution_count": 2,
      "outputs": []
    },
    {
      "cell_type": "markdown",
      "source": [
        "**QUICKSORT:**"
      ],
      "metadata": {
        "id": "PxtnrTtYe7Bo"
      }
    },
    {
      "cell_type": "code",
      "source": [
        "# função responsável por fazer o quicksort\n",
        "def quicksort(arr):\n",
        "    # verificando se o array tem 1 elemento ou 0.\n",
        "    #Caso essa condição for verdadeira, não é necessário ordenar os registros.\n",
        "    if len(arr) <= 1:\n",
        "        return arr\n",
        "    else:\n",
        "        # Lógica responsável por atribuir a uma variável o elemento central do array.\n",
        "        pivot = arr[len(arr) // 2]\n",
        "\n",
        "        # Sublista responsável por armazenar todos os elementos menores que o pivot.\n",
        "        left = [x for x in arr if x < pivot]\n",
        "\n",
        "        # Sublista responsável por armazenar todos os elementos iguais ao pivot. Caso exista.\n",
        "        middle = [x for x in arr if x == pivot]\n",
        "\n",
        "        # Sublista responsável por armazenar todos os elementos maiores que o pivot.\n",
        "        right = [x for x in arr if x > pivot]\n",
        "\n",
        "        # Concatenação das listas ordenadas.\n",
        "        return quicksort(left) + middle + quicksort(right)"
      ],
      "metadata": {
        "id": "nHVUMdlwy_SQ"
      },
      "execution_count": 3,
      "outputs": []
    },
    {
      "cell_type": "markdown",
      "source": [
        "**MERGE SORT:**"
      ],
      "metadata": {
        "id": "5ThlLC72e3QC"
      }
    },
    {
      "cell_type": "code",
      "source": [
        "# Função de ordenação Merge Sort\n",
        "def merge_sort(arr):\n",
        "    if len(arr) > 1:\n",
        "        mid = len(arr) // 2\n",
        "        left_half = arr[:mid]\n",
        "        right_half = arr[mid:]\n",
        "\n",
        "        # Ordena cada metade\n",
        "        merge_sort(left_half)\n",
        "        merge_sort(right_half)\n",
        "\n",
        "        i = j = k = 0\n",
        "\n",
        "        # Mescla as duas metades\n",
        "        while i < len(left_half) and j < len(right_half):\n",
        "            if left_half[i] < right_half[j]:\n",
        "                arr[k] = left_half[i]\n",
        "                i += 1\n",
        "            else:\n",
        "                arr[k] = right_half[j]\n",
        "                j += 1\n",
        "            k += 1\n",
        "\n",
        "        # Adiciona os elementos restantes de cada metade\n",
        "        while i < len(left_half):\n",
        "            arr[k] = left_half[i]\n",
        "            i += 1\n",
        "            k += 1\n",
        "\n",
        "        while j < len(right_half):\n",
        "            arr[k] = right_half[j]\n",
        "            j += 1\n",
        "            k += 1"
      ],
      "metadata": {
        "id": "6YCvwApweukr"
      },
      "execution_count": 4,
      "outputs": []
    },
    {
      "cell_type": "markdown",
      "source": [
        "**HEAP SORT:**"
      ],
      "metadata": {
        "id": "HgORuVn4fHmD"
      }
    },
    {
      "cell_type": "code",
      "source": [
        "# Função de ordenação do Heap Sort\n",
        "\n",
        "def heapify(arr, n, i):\n",
        "    largest = i  # Inicializa o maior como raiz\n",
        "    left = 2 * i + 1  # filho da esquerda\n",
        "    right = 2 * i + 2  # filho da direita\n",
        "\n",
        "    # Verifica se o filho da esquerda é maior que a raiz\n",
        "    if left < n and arr[largest] < arr[left]:\n",
        "        largest = left\n",
        "\n",
        "    # Verifica se o filho da direita é maior que o maior até agora\n",
        "    if right < n and arr[largest] < arr[right]:\n",
        "        largest = right\n",
        "\n",
        "    # Se o maior não é a raiz\n",
        "    if largest != i:\n",
        "        arr[i], arr[largest] = arr[largest], arr[i]  # Troca\n",
        "\n",
        "        # Recursivamente heapify a subárvore afetada\n",
        "        heapify(arr, n, largest)\n",
        "\n",
        "def heap_sort(arr):\n",
        "    n = len(arr)\n",
        "\n",
        "    # Construindo o heap (rearranjo do array)\n",
        "    for i in range(n // 2 - 1, -1, -1):\n",
        "        heapify(arr, n, i)\n",
        "\n",
        "    # Um a um extrai os elementos do heap\n",
        "    for i in range(n - 1, 0, -1):\n",
        "        arr[i], arr[0] = arr[0], arr[i]  # Troca\n",
        "        heapify(arr, i, 0)"
      ],
      "metadata": {
        "id": "2lMO76kufZO6"
      },
      "execution_count": 5,
      "outputs": []
    },
    {
      "cell_type": "code",
      "source": [
        "# Função responsável por medir o tempo de execução.\n",
        "def measure_time(sort_function, arr):\n",
        "    start_time = time.time()\n",
        "    sort_function(arr)\n",
        "    end_time = time.time()\n",
        "    return end_time - start_time"
      ],
      "metadata": {
        "id": "xrJ3d6lezYpy"
      },
      "execution_count": 6,
      "outputs": []
    },
    {
      "cell_type": "code",
      "source": [
        "# Função responsável por adicionar em uma lista o tempo de execução de cada arquivo em ordem decrescente.\n",
        "# measure_list é o parâmetro que receberá lista vazia.\n",
        "# fun_sort é o parâmetro que receberá a função do algoritmo de ordenação.\n",
        "# *datasets é o parâmetro que receberá todos os arquivos .dat\n",
        "def add_measures(measure_list, func_sort, *datasets):\n",
        "    for data in datasets:\n",
        "        measure_list += [measure_time(func_sort, data)]\n",
        "    measure_list.sort(reverse=True)"
      ],
      "metadata": {
        "id": "XKmjzFIBBluu"
      },
      "execution_count": 7,
      "outputs": []
    },
    {
      "cell_type": "code",
      "source": [
        "# Armazenamento dos dados contidos no arquivos .dat em variáveis.\n",
        "data1 = read_file_dat('/content/rnd500000.dat')\n",
        "data2 = read_file_dat('/content/rnd500000_desc.dat')\n",
        "data3 = read_file_dat('/content/Rnd100000.dat')\n",
        "data4 = read_file_dat('/content/Rnd5000001.dat')"
      ],
      "metadata": {
        "id": "12S4Ym0Zzt-U"
      },
      "execution_count": 8,
      "outputs": []
    },
    {
      "cell_type": "code",
      "source": [
        "# Listas para armazenar os tempos de execução\n",
        "measure_in_sec_quick = []\n",
        "measure_in_sec_merge = []\n",
        "measure_in_sec_heap = []"
      ],
      "metadata": {
        "id": "aptB2Drtk2Y7"
      },
      "execution_count": 9,
      "outputs": []
    },
    {
      "cell_type": "code",
      "source": [
        "# Executa e mede o tempo de QuickSort\n",
        "add_measures(measure_in_sec_quick, quicksort, data1[:], data2[:], data3[:], data4[:])"
      ],
      "metadata": {
        "id": "fF7X3LYGftep"
      },
      "execution_count": 10,
      "outputs": []
    },
    {
      "cell_type": "code",
      "source": [
        "# Executa e mede o tempo de Merge Sort\n",
        "add_measures(measure_in_sec_merge, merge_sort, data1[:], data2[:], data3[:], data4[:])"
      ],
      "metadata": {
        "id": "0QY14-e0fy_6"
      },
      "execution_count": 11,
      "outputs": []
    },
    {
      "cell_type": "code",
      "source": [
        "# Executa e mede o tempo de Heap Sort\n",
        "add_measures(measure_in_sec_heap, heap_sort, data1[:], data2[:], data3[:], data4[:])"
      ],
      "metadata": {
        "id": "9FHZ9eESf13_"
      },
      "execution_count": 12,
      "outputs": []
    },
    {
      "cell_type": "code",
      "source": [
        "# Importando a biblioteca para plotar os gráficos.\n",
        "import matplotlib.pyplot as plt"
      ],
      "metadata": {
        "id": "u43TZlmCDmzS"
      },
      "execution_count": 13,
      "outputs": []
    },
    {
      "cell_type": "code",
      "source": [
        "plt.figure(figsize=(10, 6))\n",
        "# Rótulo para cada setor do gráfico.\n",
        "labels = ['Record_500.000', 'Record_500.000_desc', 'Record_100.000', 'Record_50.000']\n",
        "\n",
        "# Ajuste para as posições das barras\n",
        "x = range(len(labels))\n",
        "\n",
        "# Plotando Quick Sort\n",
        "plt.bar([p - 0.25 for p in x], measure_in_sec_quick, color='blue', width= 0.25, label=\"Quick Sort\", align='center')\n",
        "\n",
        "# Plotando Merge Sort\n",
        "plt.bar(x, measure_in_sec_merge, color='orange', width= 0.25, label=\"Merge Sort\", align='center')\n",
        "\n",
        "# Plotando Heap Sort\n",
        "plt.bar([p + 0.25 for p in x], measure_in_sec_heap, color='green', width= 0.25, label=\"Heap Sort\", align='center')\n",
        "\n",
        "plt.xticks(x, labels)  # Ajustando as marcas no eixo x\n",
        "plt.xlabel('Files')\n",
        "plt.ylabel('Execution Time (s)')\n",
        "plt.title('Time Comparison: Quick Sort vs Merge Sort vs Heap Sort')\n",
        "plt.legend()\n",
        "plt.show()"
      ],
      "metadata": {
        "colab": {
          "base_uri": "https://localhost:8080/",
          "height": 564
        },
        "id": "AMXg3LUjro0D",
        "outputId": "d8684389-1fb1-4169-dc07-3a94929b0f63"
      },
      "execution_count": 14,
      "outputs": [
        {
          "output_type": "display_data",
          "data": {
            "text/plain": [
              "<Figure size 1000x600 with 1 Axes>"
            ],
            "image/png": "[encoded data removed]"
          },
          "metadata": {}
        }
      ]
    },
    {
      "cell_type": "code",
      "source": [
        "# Função responsável por calcular a média de cada lista\n",
        "def execution_average(measure_list, average_execution_per_algorithm):\n",
        "  algoritm_average  = sum(measure_list) / len(measure_list)\n",
        "  average_execution_per_algorithm.append(algoritm_average)\n",
        "  return average_execution_per_algorithm"
      ],
      "metadata": {
        "id": "aqxMA4QFglgK"
      },
      "execution_count": 15,
      "outputs": []
    },
    {
      "cell_type": "code",
      "source": [
        "# lista das médias\n",
        "average_execution_per_algorithm = []"
      ],
      "metadata": {
        "id": "hbxaHgxliHAv"
      },
      "execution_count": 16,
      "outputs": []
    },
    {
      "cell_type": "code",
      "source": [
        "execution_average(measure_in_sec_heap, average_execution_per_algorithm)"
      ],
      "metadata": {
        "colab": {
          "base_uri": "https://localhost:8080/"
        },
        "id": "Af2KFJUUhRbQ",
        "outputId": "8ce1d2ee-06b9-48bc-b326-31bcd3cb1260"
      },
      "execution_count": 17,
      "outputs": [
        {
          "output_type": "execute_result",
          "data": {
            "text/plain": [
              "[4.965671122074127]"
            ]
          },
          "metadata": {},
          "execution_count": 17
        }
      ]
    },
    {
      "cell_type": "code",
      "source": [
        "execution_average(measure_in_sec_merge, average_execution_per_algorithm)"
      ],
      "metadata": {
        "colab": {
          "base_uri": "https://localhost:8080/"
        },
        "id": "2pK6T9EGhgH1",
        "outputId": "3f505f24-7d3d-45fc-b7e8-9dc9a709bcaa"
      },
      "execution_count": 18,
      "outputs": [
        {
          "output_type": "execute_result",
          "data": {
            "text/plain": [
              "[4.965671122074127, 2.7520865201950073]"
            ]
          },
          "metadata": {},
          "execution_count": 18
        }
      ]
    },
    {
      "cell_type": "code",
      "source": [
        "execution_average(measure_in_sec_quick, average_execution_per_algorithm)"
      ],
      "metadata": {
        "colab": {
          "base_uri": "https://localhost:8080/"
        },
        "id": "bfUcBODQhgqc",
        "outputId": "80bff97e-e0e6-46da-8ca7-9c1d92f6de19"
      },
      "execution_count": 19,
      "outputs": [
        {
          "output_type": "execute_result",
          "data": {
            "text/plain": [
              "[4.965671122074127, 2.7520865201950073, 1.6655001640319824]"
            ]
          },
          "metadata": {},
          "execution_count": 19
        }
      ]
    },
    {
      "cell_type": "code",
      "source": [
        "# Rótulo para cada setor do gráfico.\n",
        "labels = ['Heap Sort', 'Merge Sort', 'Quick Sort']\n",
        "\n",
        "# Valores númericos de cada setor.\n",
        "sizes =  average_execution_per_algorithm\n",
        "\n",
        "# Cor de cada setor.\n",
        "colors = ['red', 'yellow', 'blue']\n",
        "\n",
        "# autopct='%1.1f%%' Formata com uma casa decimal.\n",
        "# shadow=True Cria uma sombra para o gráfico. Traz um aspecto 3D.\n",
        "# startangle=90 Define o ângulo inicial do gráfico.\n",
        "plt.pie(sizes, colors=colors, autopct='%1.1f%%', shadow=True, startangle=90)\n",
        "\n",
        "# Garante que o gráfico seja desenhado como um círculo perfeito.\n",
        "plt.axis('equal')\n",
        "\n",
        "plt.legend(labels, title=\"Algorithms\", loc=\"center left\", bbox_to_anchor=(1, 0, 0.5, 1))\n",
        "plt.show()"
      ],
      "metadata": {
        "colab": {
          "base_uri": "https://localhost:8080/",
          "height": 406
        },
        "id": "FM7HMZwoe9WO",
        "outputId": "e719742d-0229-4f8f-d970-a0e578b4f6b6"
      },
      "execution_count": 20,
      "outputs": [
        {
          "output_type": "display_data",
          "data": {
            "text/plain": [
              "<Figure size 640x480 with 1 Axes>"
            ],
            "image/png": "[encoded data removed]"
          },
          "metadata": {}
        }
      ]
    }
  ]
}